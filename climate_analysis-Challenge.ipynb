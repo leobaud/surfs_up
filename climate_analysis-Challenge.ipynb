{
 "cells": [
  {
   "cell_type": "code",
   "execution_count": 13,
   "metadata": {},
   "outputs": [],
   "source": [
    "import numpy as np\n",
    "import pandas as pd"
   ]
  },
  {
   "cell_type": "code",
   "execution_count": 14,
   "metadata": {},
   "outputs": [],
   "source": [
    "import datetime as dt"
   ]
  },
  {
   "cell_type": "markdown",
   "metadata": {},
   "source": [
    "# Reflect Tables into SQLAlchemy ORM"
   ]
  },
  {
   "cell_type": "code",
   "execution_count": 15,
   "metadata": {},
   "outputs": [],
   "source": [
    "# Python SQL toolkit and Object Relational Mapper\n",
    "import sqlalchemy\n",
    "from sqlalchemy.ext.automap import automap_base\n",
    "from sqlalchemy.orm import Session\n",
    "from sqlalchemy import create_engine, func"
   ]
  },
  {
   "cell_type": "code",
   "execution_count": 16,
   "metadata": {},
   "outputs": [],
   "source": [
    "# reflect an existing database into a new model\n",
    "engine = create_engine(\"sqlite:///hawaii.sqlite\")\n",
    "Base = automap_base()\n",
    "# reflect the tables\n",
    "Base.prepare(engine, reflect=True)"
   ]
  },
  {
   "cell_type": "code",
   "execution_count": 17,
   "metadata": {},
   "outputs": [
    {
     "data": {
      "text/plain": [
       "['measurement', 'station']"
      ]
     },
     "execution_count": 17,
     "metadata": {},
     "output_type": "execute_result"
    }
   ],
   "source": [
    "# We can view all of the classes that automap found\n",
    "Base.classes.keys()"
   ]
  },
  {
   "cell_type": "code",
   "execution_count": 18,
   "metadata": {},
   "outputs": [],
   "source": [
    "# Save references to each table\n",
    "Measurement = Base.classes.measurement"
   ]
  },
  {
   "cell_type": "code",
   "execution_count": 19,
   "metadata": {},
   "outputs": [],
   "source": [
    "# Create our session (link) from Python to the DB\n",
    "session = Session(engine)"
   ]
  },
  {
   "cell_type": "markdown",
   "metadata": {},
   "source": [
    "# Challenge"
   ]
  },
  {
   "cell_type": "code",
   "execution_count": 20,
   "metadata": {},
   "outputs": [
    {
     "data": {
      "text/html": [
       "<div>\n",
       "<style scoped>\n",
       "    .dataframe tbody tr th:only-of-type {\n",
       "        vertical-align: middle;\n",
       "    }\n",
       "\n",
       "    .dataframe tbody tr th {\n",
       "        vertical-align: top;\n",
       "    }\n",
       "\n",
       "    .dataframe thead th {\n",
       "        text-align: right;\n",
       "    }\n",
       "</style>\n",
       "<table border=\"1\" class=\"dataframe\">\n",
       "  <thead>\n",
       "    <tr style=\"text-align: right;\">\n",
       "      <th></th>\n",
       "      <th>tobs</th>\n",
       "    </tr>\n",
       "  </thead>\n",
       "  <tbody>\n",
       "    <tr>\n",
       "      <th>count</th>\n",
       "      <td>1700.000000</td>\n",
       "    </tr>\n",
       "    <tr>\n",
       "      <th>mean</th>\n",
       "      <td>74.944118</td>\n",
       "    </tr>\n",
       "    <tr>\n",
       "      <th>std</th>\n",
       "      <td>3.257417</td>\n",
       "    </tr>\n",
       "    <tr>\n",
       "      <th>min</th>\n",
       "      <td>64.000000</td>\n",
       "    </tr>\n",
       "    <tr>\n",
       "      <th>25%</th>\n",
       "      <td>73.000000</td>\n",
       "    </tr>\n",
       "    <tr>\n",
       "      <th>50%</th>\n",
       "      <td>75.000000</td>\n",
       "    </tr>\n",
       "    <tr>\n",
       "      <th>75%</th>\n",
       "      <td>77.000000</td>\n",
       "    </tr>\n",
       "    <tr>\n",
       "      <th>max</th>\n",
       "      <td>85.000000</td>\n",
       "    </tr>\n",
       "  </tbody>\n",
       "</table>\n",
       "</div>"
      ],
      "text/plain": [
       "              tobs\n",
       "count  1700.000000\n",
       "mean     74.944118\n",
       "std       3.257417\n",
       "min      64.000000\n",
       "25%      73.000000\n",
       "50%      75.000000\n",
       "75%      77.000000\n",
       "max      85.000000"
      ]
     },
     "execution_count": 20,
     "metadata": {},
     "output_type": "execute_result"
    }
   ],
   "source": [
    "results = session.query(Measurement.tobs).\\\n",
    "        filter(func.extract('month', Measurement.date)==6).all()\n",
    "df = pd.DataFrame(results, columns=['tobs'])\n",
    "df.describe()"
   ]
  },
  {
   "cell_type": "code",
   "execution_count": 21,
   "metadata": {},
   "outputs": [
    {
     "data": {
      "text/html": [
       "<div>\n",
       "<style scoped>\n",
       "    .dataframe tbody tr th:only-of-type {\n",
       "        vertical-align: middle;\n",
       "    }\n",
       "\n",
       "    .dataframe tbody tr th {\n",
       "        vertical-align: top;\n",
       "    }\n",
       "\n",
       "    .dataframe thead th {\n",
       "        text-align: right;\n",
       "    }\n",
       "</style>\n",
       "<table border=\"1\" class=\"dataframe\">\n",
       "  <thead>\n",
       "    <tr style=\"text-align: right;\">\n",
       "      <th></th>\n",
       "      <th>tobs</th>\n",
       "    </tr>\n",
       "  </thead>\n",
       "  <tbody>\n",
       "    <tr>\n",
       "      <th>count</th>\n",
       "      <td>1517.000000</td>\n",
       "    </tr>\n",
       "    <tr>\n",
       "      <th>mean</th>\n",
       "      <td>71.041529</td>\n",
       "    </tr>\n",
       "    <tr>\n",
       "      <th>std</th>\n",
       "      <td>3.745920</td>\n",
       "    </tr>\n",
       "    <tr>\n",
       "      <th>min</th>\n",
       "      <td>56.000000</td>\n",
       "    </tr>\n",
       "    <tr>\n",
       "      <th>25%</th>\n",
       "      <td>69.000000</td>\n",
       "    </tr>\n",
       "    <tr>\n",
       "      <th>50%</th>\n",
       "      <td>71.000000</td>\n",
       "    </tr>\n",
       "    <tr>\n",
       "      <th>75%</th>\n",
       "      <td>74.000000</td>\n",
       "    </tr>\n",
       "    <tr>\n",
       "      <th>max</th>\n",
       "      <td>83.000000</td>\n",
       "    </tr>\n",
       "  </tbody>\n",
       "</table>\n",
       "</div>"
      ],
      "text/plain": [
       "              tobs\n",
       "count  1517.000000\n",
       "mean     71.041529\n",
       "std       3.745920\n",
       "min      56.000000\n",
       "25%      69.000000\n",
       "50%      71.000000\n",
       "75%      74.000000\n",
       "max      83.000000"
      ]
     },
     "execution_count": 21,
     "metadata": {},
     "output_type": "execute_result"
    }
   ],
   "source": [
    "results = session.query(Measurement.tobs).\\\n",
    "        filter(func.extract('month', Measurement.date)==12).all()\n",
    "df = pd.DataFrame(results, columns=['tobs'])\n",
    "df.describe()"
   ]
  },
  {
   "cell_type": "code",
   "execution_count": 22,
   "metadata": {},
   "outputs": [
    {
     "data": {
      "text/plain": [
       "[('USC00511918', 2010, 69.0, 75.62068965517241, 85.0),\n",
       " ('USC00513117', 2010, 70.0, 74.8, 83.0),\n",
       " ('USC00514830', 2010, 70.0, 73.6896551724138, 76.0),\n",
       " ('USC00516128', 2010, 68.0, 72.86363636363636, 79.0),\n",
       " ('USC00517948', 2010, 73.0, 76.75, 79.0),\n",
       " ('USC00518838', 2010, 67.0, 72.56521739130434, 78.0),\n",
       " ('USC00519281', 2010, 69.0, 73.63333333333334, 81.0),\n",
       " ('USC00519397', 2010, 76.0, 77.76666666666667, 82.0),\n",
       " ('USC00519523', 2010, 73.0, 76.17241379310344, 79.0),\n",
       " ('USC00511918', 2011, 68.0, 73.43333333333334, 80.0),\n",
       " ('USC00513117', 2011, 69.0, 73.46666666666667, 76.0),\n",
       " ('USC00514830', 2011, 67.0, 72.58333333333333, 76.0),\n",
       " ('USC00516128', 2011, 66.0, 70.73333333333333, 74.0),\n",
       " ('USC00517948', 2011, 65.0, 75.19047619047619, 77.0),\n",
       " ('USC00518838', 2011, 73.0, 75.4, 78.0),\n",
       " ('USC00519281', 2011, 67.0, 74.61538461538461, 82.0),\n",
       " ('USC00519397', 2011, 70.0, 76.53846153846153, 78.0),\n",
       " ('USC00519523', 2011, 71.0, 75.0, 79.0),\n",
       " ('USC00511918', 2012, 71.0, 75.34482758620689, 81.0),\n",
       " ('USC00513117', 2012, 69.0, 72.2, 75.0),\n",
       " ('USC00514830', 2012, 74.0, 75.66666666666667, 78.0),\n",
       " ('USC00516128', 2012, 68.0, 70.96428571428571, 75.0),\n",
       " ('USC00517948', 2012, 72.0, 74.95, 78.0),\n",
       " ('USC00518838', 2012, 71.0, 73.2, 76.0),\n",
       " ('USC00519281', 2012, 68.0, 72.7, 81.0),\n",
       " ('USC00519397', 2012, 73.0, 76.23333333333333, 78.0),\n",
       " ('USC00519523', 2012, 72.0, 75.4, 81.0),\n",
       " ('USC00511918', 2013, 66.0, 74.93333333333334, 81.0),\n",
       " ('USC00513117', 2013, 70.0, 73.56666666666666, 77.0),\n",
       " ('USC00514830', 2013, 71.0, 76.25, 79.0),\n",
       " ('USC00516128', 2013, 67.0, 71.2, 78.0),\n",
       " ('USC00517948', 2013, 70.0, 76.0, 80.0),\n",
       " ('USC00519281', 2013, 68.0, 72.76666666666667, 81.0),\n",
       " ('USC00519397', 2013, 73.0, 77.0, 79.0),\n",
       " ('USC00519523', 2013, 72.0, 76.24137931034483, 81.0),\n",
       " ('USC00511918', 2014, 67.0, 73.96428571428571, 84.0),\n",
       " ('USC00513117', 2014, 70.0, 73.83333333333333, 77.0),\n",
       " ('USC00514830', 2014, 73.0, 76.53846153846153, 79.0),\n",
       " ('USC00516128', 2014, 68.0, 71.72413793103448, 77.0),\n",
       " ('USC00517948', 2014, 74.0, 78.46666666666667, 81.0),\n",
       " ('USC00519281', 2014, 68.0, 72.73333333333333, 80.0),\n",
       " ('USC00519397', 2014, 73.0, 78.13333333333334, 84.0),\n",
       " ('USC00519523', 2014, 74.0, 76.74074074074075, 80.0),\n",
       " ('USC00511918', 2015, 66.0, 70.15789473684211, 75.0),\n",
       " ('USC00513117', 2015, 70.0, 74.8076923076923, 79.0),\n",
       " ('USC00514830', 2015, 73.0, 77.29629629629629, 80.0),\n",
       " ('USC00516128', 2015, 69.0, 71.62068965517241, 76.0),\n",
       " ('USC00517948', 2015, 77.0, 78.6923076923077, 81.0),\n",
       " ('USC00519281', 2015, 68.0, 72.16666666666667, 79.0),\n",
       " ('USC00519397', 2015, 76.0, 78.3, 81.0),\n",
       " ('USC00519523', 2015, 72.0, 77.37931034482759, 81.0),\n",
       " ('USC00513117', 2016, 68.0, 73.86666666666666, 78.0),\n",
       " ('USC00514830', 2016, 71.0, 77.11111111111111, 80.0),\n",
       " ('USC00516128', 2016, 69.0, 71.81481481481481, 75.0),\n",
       " ('USC00517948', 2016, 64.0, 75.80952380952381, 81.0),\n",
       " ('USC00519281', 2016, 65.0, 72.96666666666667, 77.0),\n",
       " ('USC00519397', 2016, 71.0, 77.16666666666667, 80.0),\n",
       " ('USC00519523', 2016, 72.0, 77.62068965517241, 81.0),\n",
       " ('USC00513117', 2017, 72.0, 75.96666666666667, 82.0),\n",
       " ('USC00514830', 2017, 75.0, 78.875, 81.0),\n",
       " ('USC00516128', 2017, 71.0, 74.92857142857143, 79.0),\n",
       " ('USC00517948', 2017, 74.0, 78.6, 82.0),\n",
       " ('USC00519281', 2017, 71.0, 74.76666666666667, 80.0),\n",
       " ('USC00519397', 2017, 75.0, 79.2, 83.0),\n",
       " ('USC00519523', 2017, 75.0, 78.89655172413794, 82.0)]"
      ]
     },
     "execution_count": 22,
     "metadata": {},
     "output_type": "execute_result"
    }
   ],
   "source": [
    "sel = [func.min(Measurement.tobs), func.avg(Measurement.tobs), func.max(Measurement.tobs)] \n",
    "results = session.query(Measurement.station, func.extract('year', Measurement.date), *sel).\\\n",
    "        filter(func.extract('month', Measurement.date)==6). group_by(func.extract('year', Measurement.date)).\\\n",
    "        group_by(Measurement.station).all()\n",
    "results"
   ]
  },
  {
   "cell_type": "code",
   "execution_count": 27,
   "metadata": {},
   "outputs": [
    {
     "data": {
      "text/plain": [
       "[('USC00511918', 2010, 63.0, 70.0, 77.0),\n",
       " ('USC00513117', 2010, 64.0, 70.96774193548387, 78.0),\n",
       " ('USC00514830', 2010, 62.0, 69.23333333333333, 75.0),\n",
       " ('USC00516128', 2010, 61.0, 69.48387096774194, 80.0),\n",
       " ('USC00517948', 2010, 66.0, 69.5, 76.0),\n",
       " ('USC00518838', 2010, 63.0, 72.23076923076923, 78.0),\n",
       " ('USC00519281', 2010, 58.0, 69.0, 77.0),\n",
       " ('USC00519397', 2010, 64.0, 70.64, 77.0),\n",
       " ('USC00519523', 2010, 61.0, 71.61290322580645, 78.0),\n",
       " ('USC00511918', 2011, 65.0, 70.48387096774194, 77.0),\n",
       " ('USC00513117', 2011, 67.0, 71.09677419354838, 74.0),\n",
       " ('USC00514830', 2011, 66.0, 70.65384615384616, 74.0),\n",
       " ('USC00516128', 2011, 65.0, 69.16666666666667, 73.0),\n",
       " ('USC00517948', 2011, 69.0, 70.91666666666667, 76.0),\n",
       " ('USC00519281', 2011, 65.0, 70.12903225806451, 75.0),\n",
       " ('USC00519397', 2011, 63.0, 71.87096774193549, 77.0),\n",
       " ('USC00519523', 2011, 65.0, 72.2258064516129, 75.0),\n",
       " ('USC00511918', 2012, 61.0, 70.56666666666666, 80.0),\n",
       " ('USC00513117', 2012, 65.0, 70.06451612903226, 76.0),\n",
       " ('USC00514830', 2012, 68.0, 74.3, 79.0),\n",
       " ('USC00516128', 2012, 62.0, 68.80645161290323, 77.0),\n",
       " ('USC00517948', 2012, 68.0, 73.16666666666667, 78.0),\n",
       " ('USC00518838', 2012, 73.0, 73.5, 74.0),\n",
       " ('USC00519281', 2012, 62.0, 70.12903225806451, 76.0),\n",
       " ('USC00519397', 2012, 64.0, 71.1, 76.0),\n",
       " ('USC00519523', 2012, 65.0, 73.51612903225806, 78.0),\n",
       " ('USC00511918', 2013, 63.0, 69.33333333333333, 79.0),\n",
       " ('USC00513117', 2013, 67.0, 71.48387096774194, 76.0),\n",
       " ('USC00514830', 2013, 71.0, 74.33333333333333, 78.0),\n",
       " ('USC00516128', 2013, 64.0, 70.06896551724138, 83.0),\n",
       " ('USC00517948', 2013, 67.0, 70.95, 75.0),\n",
       " ('USC00518838', 2013, 72.0, 72.5, 73.0),\n",
       " ('USC00519281', 2013, 63.0, 69.54838709677419, 78.0),\n",
       " ('USC00519397', 2013, 65.0, 70.93548387096774, 77.0),\n",
       " ('USC00519523', 2013, 64.0, 72.16129032258064, 79.0),\n",
       " ('USC00511918', 2014, 57.0, 68.0, 81.0),\n",
       " ('USC00513117', 2014, 64.0, 70.35483870967742, 78.0),\n",
       " ('USC00514830', 2014, 70.0, 74.17391304347827, 78.0),\n",
       " ('USC00516128', 2014, 62.0, 68.22222222222223, 73.0),\n",
       " ('USC00517948', 2014, 64.0, 74.55, 78.0),\n",
       " ('USC00519281', 2014, 59.0, 66.70967741935483, 72.0),\n",
       " ('USC00519397', 2014, 56.0, 69.38709677419355, 75.0),\n",
       " ('USC00519523', 2014, 56.0, 70.26666666666667, 76.0),\n",
       " ('USC00513117', 2015, 67.0, 73.06666666666666, 80.0),\n",
       " ('USC00514830', 2015, 72.0, 76.79166666666667, 79.0),\n",
       " ('USC00516128', 2015, 67.0, 70.64285714285714, 74.0),\n",
       " ('USC00517948', 2015, 65.0, 73.38461538461539, 82.0),\n",
       " ('USC00519281', 2015, 67.0, 73.38709677419355, 79.0),\n",
       " ('USC00519397', 2015, 66.0, 73.19354838709677, 77.0),\n",
       " ('USC00519523', 2015, 69.0, 74.03703703703704, 79.0),\n",
       " ('USC00513117', 2016, 63.0, 70.51612903225806, 74.0),\n",
       " ('USC00514830', 2016, 69.0, 74.21428571428571, 78.0),\n",
       " ('USC00516128', 2016, 60.0, 68.66666666666667, 76.0),\n",
       " ('USC00517948', 2016, 66.0, 70.15, 76.0),\n",
       " ('USC00519281', 2016, 62.0, 70.41935483870968, 76.0),\n",
       " ('USC00519397', 2016, 62.0, 70.54838709677419, 77.0),\n",
       " ('USC00519523', 2016, 63.0, 73.41379310344827, 78.0)]"
      ]
     },
     "execution_count": 27,
     "metadata": {},
     "output_type": "execute_result"
    }
   ],
   "source": [
    "sel = [func.min(Measurement.tobs), func.avg(Measurement.tobs), func.max(Measurement.tobs)] \n",
    "results = session.query(Measurement.station, func.extract('year', Measurement.date), *sel).\\\n",
    "        filter(func.extract('month', Measurement.date)==12). group_by(func.extract('year', Measurement.date)).\\\n",
    "        group_by(Measurement.station).all()\n",
    "results"
   ]
  },
  {
   "cell_type": "code",
   "execution_count": null,
   "metadata": {},
   "outputs": [],
   "source": []
  },
  {
   "cell_type": "code",
   "execution_count": null,
   "metadata": {},
   "outputs": [],
   "source": []
  }
 ],
 "metadata": {
  "kernelspec": {
   "display_name": "Python 3",
   "language": "python",
   "name": "python3"
  },
  "language_info": {
   "codemirror_mode": {
    "name": "ipython",
    "version": 3
   },
   "file_extension": ".py",
   "mimetype": "text/x-python",
   "name": "python",
   "nbconvert_exporter": "python",
   "pygments_lexer": "ipython3",
   "version": "3.7.7"
  }
 },
 "nbformat": 4,
 "nbformat_minor": 2
}
